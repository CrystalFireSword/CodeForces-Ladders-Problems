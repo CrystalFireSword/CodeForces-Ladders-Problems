{
 "cells": [
  {
   "cell_type": "markdown",
   "id": "e2034997",
   "metadata": {},
   "source": [
    "# CODEFORCES LADDERS A20J"
   ]
  },
  {
   "cell_type": "markdown",
   "id": "86bdf4ac",
   "metadata": {},
   "source": [
    "## 1. YOUNG PHYSICIST\n",
    "A guy named Vasya attends the final grade of a high school. One day Vasya decided to watch a match of his favorite hockey team. And, as the boy loves hockey very much, even more than physics, he forgot to do the homework. Specifically, he forgot to complete his physics tasks. Next day the teacher got very angry at Vasya and decided to teach him a lesson. He gave the lazy student a seemingly easy task: You are given an idle body in space and the forces that affect it. The body can be considered as a material point with coordinates (0; 0; 0). Vasya had only to answer whether it is in equilibrium. \"Piece of cake\" — thought Vasya, we need only to check if the sum of all vectors is equal to 0. So, Vasya began to solve the problem. But later it turned out that there can be lots and lots of these forces, and Vasya can not cope without your help. Help him. Write a program that determines whether a body is idle or is moving by the given vectors of forces.\n",
    "\n",
    "Input\n",
    "The first line contains a positive integer n (1 ≤ n ≤ 100), then follow n lines containing three integers each: the xi coordinate, the yi coordinate and the zi coordinate of the force vector, applied to the body ( - 100 ≤ xi, yi, zi ≤ 100).\n",
    "\n",
    "Output\n",
    "Print the word \"YES\" if the body is in equilibrium, or the word \"NO\" if it is not."
   ]
  },
  {
   "cell_type": "code",
   "execution_count": null,
   "id": "892086e7",
   "metadata": {},
   "outputs": [],
   "source": [
    "# Method 1 : 154 ms\n",
    "xs, ys, zs = 0, 0, 0\n",
    "for x in range(int(input())):\n",
    "    v = list(map(int, input().split()))\n",
    "    xs += v[0]\n",
    "    ys += v[1]\n",
    "    zs += v[2]\n",
    "if xs == 0 and ys == 0 and zs == 0:\n",
    "    print('YES')\n",
    "else:\n",
    "    print('NO')\n",
    "\n",
    "# refer codeforces status or pycharm for other solutions to the same problem"
   ]
  },
  {
   "cell_type": "markdown",
   "id": "dd06dea4",
   "metadata": {},
   "source": [
    "## 2. BEAUTIFUL MATRIX\n",
    "You've got a 5 × 5 matrix, consisting of 24 zeroes and a single number one. Let's index the matrix rows by numbers from 1 to 5 from top to bottom, let's index the matrix columns by numbers from 1 to 5 from left to right. In one move, you are allowed to apply one of the two following transformations to the matrix:\n",
    "\n",
    "Swap two neighboring matrix rows, that is, rows with indexes i and i + 1 for some integer i (1 ≤ i < 5).\n",
    "Swap two neighboring matrix columns, that is, columns with indexes j and j + 1 for some integer j (1 ≤ j < 5).\n",
    "You think that a matrix looks beautiful, if the single number one of the matrix is located in its middle (in the cell that is on the intersection of the third row and the third column). Count the minimum number of moves needed to make the matrix beautiful.\n",
    "\n",
    "Input\n",
    "The input consists of five lines, each line contains five integers: the j-th integer in the i-th line of the input represents the element of the matrix that is located on the intersection of the i-th row and the j-th column. It is guaranteed that the matrix consists of 24 zeroes and a single number one.\n",
    "\n",
    "Output\n",
    "Print a single integer — the minimum number of moves needed to make the matrix beautiful."
   ]
  },
  {
   "cell_type": "code",
   "execution_count": null,
   "id": "632e5fc6",
   "metadata": {},
   "outputs": [],
   "source": [
    "# Method 3: 154 ms\n",
    "\n",
    "for x in range(-2,3):\n",
    "    l=tuple(input().split())\n",
    "    if '1' in l:\n",
    "        steps=abs(x)+abs(2-l.index('1'))\n",
    "        break\n",
    "print(steps)\n",
    "\n",
    "# refer codeforces status or pycharm for other solutions to the same problem"
   ]
  },
  {
   "cell_type": "markdown",
   "id": "1c084efc",
   "metadata": {},
   "source": [
    "## 3. QUEUE AT THE SCHOOL\n",
    "During the break the schoolchildren, boys and girls, formed a queue of n people in the canteen. Initially the children stood in the order they entered the canteen. However, after a while the boys started feeling awkward for standing in front of the girls in the queue and they started letting the girls move forward each second.\n",
    "\n",
    "Let's describe the process more precisely. Let's say that the positions in the queue are sequentially numbered by integers from 1 to n, at that the person in the position number 1 is served first. Then, if at time x a boy stands on the i-th position and a girl stands on the (i + 1)-th position, then at time x + 1 the i-th position will have a girl and the (i + 1)-th position will have a boy. The time is given in seconds.\n",
    "\n",
    "You've got the initial position of the children, at the initial moment of time. Determine the way the queue is going to look after t seconds.\n",
    "\n",
    "Input\n",
    "The first line contains two integers n and t (1 ≤ n, t ≤ 50), which represent the number of children in the queue and the time after which the queue will transform into the arrangement you need to find.\n",
    "\n",
    "The next line contains string s, which represents the schoolchildren's initial arrangement. If the i-th position in the queue contains a boy, then the i-th character of string s equals \"B\", otherwise the i-th character equals \"G\".\n",
    "\n",
    "Output\n",
    "Print string a, which describes the arrangement after t seconds. If the i-th position has a boy after the needed time, then the i-th character a must equal \"B\", otherwise it must equal \"G\"."
   ]
  },
  {
   "cell_type": "code",
   "execution_count": null,
   "id": "f55dbfc0",
   "metadata": {},
   "outputs": [],
   "source": [
    "# Method 1: 186 ms\n",
    "a=list(map(int,input().split()))\n",
    "l=list(input())\n",
    "t=tuple(l)\n",
    "c=0\n",
    "for y in range(a[1]):\n",
    "    for x in range(1,a[0]):\n",
    "        if t[x]=='G' and t[x-1]=='B':\n",
    "            l[x-1],l[x]=l[x],l[x-1]\n",
    "    t=tuple(l)\n",
    "s=''.join(l)\n",
    "print(s)"
   ]
  },
  {
   "cell_type": "markdown",
   "id": "2753b8dc",
   "metadata": {},
   "source": [
    "## 4. BORZE\n",
    "Ternary numeric notation is quite popular in Berland. To telegraph the ternary number the Borze alphabet is used. Digit 0 is transmitted as «.», 1 as «-.» and 2 as «--». You are to decode the Borze code, i.e. to find out the ternary number given its representation in Borze alphabet.\n",
    "\n",
    "Input\n",
    "The first line contains a number in Borze code. The length of the string is between 1 and 200 characters. It's guaranteed that the given string is a valid Borze code of some ternary number (this number can have leading zeroes).\n",
    "\n",
    "Output\n",
    "Output the decoded ternary number. It can have leading zeroes."
   ]
  },
  {
   "cell_type": "code",
   "execution_count": null,
   "id": "28a8b7a7",
   "metadata": {},
   "outputs": [],
   "source": [
    "# Method 1: Execution time: 218 ms\n",
    "\n",
    "a=input()\n",
    "s=''\n",
    "while a!='':\n",
    "    if a[0]=='.':\n",
    "        s+='0'\n",
    "        a=a[1::]\n",
    "    elif a[0]=='-':\n",
    "        if a[1]=='.':\n",
    "            s+='1'\n",
    "        elif a[1]=='-':\n",
    "            s+='2'\n",
    "        a=a[2::]\n",
    "print(s)"
   ]
  },
  {
   "cell_type": "markdown",
   "id": "54e3ad11",
   "metadata": {},
   "source": [
    "## 5. Beautiful Year\n",
    "It seems like the year of 2013 came only yesterday. Do you know a curious fact? The year of 2013 is the first year after the old 1987 with only distinct digits.\n",
    "\n",
    "Now you are suggested to solve the following problem: given a year number, find the minimum year number which is strictly larger than the given one and has only distinct digits.\n",
    "\n",
    "Input\n",
    "The single line contains integer y (1000 ≤ y ≤ 9000) — the year number.\n",
    "\n",
    "Output\n",
    "Print a single integer — the minimum year number that is strictly larger than y and all it's digits are distinct. It is guaranteed that the answer exists."
   ]
  },
  {
   "cell_type": "code",
   "execution_count": null,
   "id": "16b053f1",
   "metadata": {},
   "outputs": [],
   "source": [
    "# Method 4: 184 ms\n",
    "a= int(input())\n",
    "while True:\n",
    "    if len(set(str(a+1)))==4:\n",
    "        print(a+1)\n",
    "        break\n",
    "    else:\n",
    "        a+=1"
   ]
  },
  {
   "cell_type": "markdown",
   "id": "d68e355a",
   "metadata": {},
   "source": [
    "## 6. Lights Out\n"
   ]
  },
  {
   "cell_type": "code",
   "execution_count": null,
   "id": "f3fde6fc",
   "metadata": {},
   "outputs": [],
   "source": []
  },
  {
   "cell_type": "markdown",
   "id": "a1462b2d",
   "metadata": {},
   "source": [
    "## 7. Word"
   ]
  },
  {
   "cell_type": "code",
   "execution_count": null,
   "id": "5979e8f8",
   "metadata": {},
   "outputs": [],
   "source": []
  },
  {
   "cell_type": "markdown",
   "id": "1dcf972c",
   "metadata": {},
   "source": [
    "## 8. Word Capitalization"
   ]
  },
  {
   "cell_type": "code",
   "execution_count": null,
   "id": "26fac848",
   "metadata": {},
   "outputs": [],
   "source": []
  }
 ],
 "metadata": {
  "kernelspec": {
   "display_name": "Python 3 (ipykernel)",
   "language": "python",
   "name": "python3"
  },
  "language_info": {
   "codemirror_mode": {
    "name": "ipython",
    "version": 3
   },
   "file_extension": ".py",
   "mimetype": "text/x-python",
   "name": "python",
   "nbconvert_exporter": "python",
   "pygments_lexer": "ipython3",
   "version": "3.11.5"
  }
 },
 "nbformat": 4,
 "nbformat_minor": 5
}
